{
 "cells": [
  {
   "cell_type": "code",
   "execution_count": null,
   "id": "f05ebe2b",
   "metadata": {},
   "outputs": [],
   "source": [
    "!pip3 install pandas\n",
    "!pip3 install numpy\n",
    "!pip3 install scipy\n",
    "import pandas as pd, numpy as np, scipy as sp\n",
    "import datetime, csv, os, random, re, pyspark, gc, sys\n",
    "from zipfile import ZipFile\n",
    "from subprocess import Popen, PIPE, STDOUT, check_call\n",
    "!pip3 install pyspark\n",
    "from pyspark.sql import *\n",
    "from pyspark import *\n",
    "from pyspark.sql.functions import *\n",
    "from pyspark.sql.types import *\n",
    "from datetime import *\n",
    "from math import *\n",
    "from IPython import display\n",
    "from IPython.display import display, HTML, Image\n",
    "import pyspark.sql.functions as F\n",
    "from pyspark.sql import SparkSession\n",
    "import pyspark.pandas as ps\n",
    "from pprint import pprint\n",
    "!pip3 install chardet\n",
    "import chardet\n",
    "import socket\n",
    "import getpass\n",
    "import sys\n",
    "!pip3 install pysmb\n",
    "!pip3 install pysftp\n",
    "import pysftp"
   ]
  },
  {
   "cell_type": "code",
   "execution_count": null,
   "id": "d4bb80da",
   "metadata": {},
   "outputs": [],
   "source": [
    "class_path = 'class/'"
   ]
  },
  {
   "cell_type": "code",
   "execution_count": null,
   "id": "bf42e91d",
   "metadata": {},
   "outputs": [],
   "source": [
    "credentials = class_path + 'credentials.py'\n",
    "email = class_path + 'email.py'\n",
    "pysftp = class_path + 'pysftp.py'\n",
    "return_date = class_path + 'return_date.py'\n",
    "samba = class_path + 'samba.py'"
   ]
  },
  {
   "cell_type": "code",
   "execution_count": null,
   "id": "f08fb4dc",
   "metadata": {},
   "outputs": [],
   "source": [
    "%run -i $credentials\n",
    "%run -i $email\n",
    "%run -i $pysftp\n",
    "%run -i $return_date\n",
    "%run -i $samba"
   ]
  },
  {
   "cell_type": "code",
   "execution_count": null,
   "id": "2c052d61",
   "metadata": {},
   "outputs": [],
   "source": [
    "today = (date.today() + timedelta(days=-0)).strftime('%Y-%m-%d')\n",
    "quote = \"'\"\n",
    "\n",
    "fn_data_referencia(today)\n",
    "print(today,AAAAMM, I_AAAA_MM_DD, U_AAAA_MM_DD)"
   ]
  },
  {
   "cell_type": "code",
   "execution_count": null,
   "id": "d6e1f186",
   "metadata": {},
   "outputs": [],
   "source": [
    "df = pd.DataFrame({'a': [1,2,3], 'b':[4,5,6]})\n",
    "df"
   ]
  },
  {
   "cell_type": "code",
   "execution_count": null,
   "id": "953a5bb6",
   "metadata": {},
   "outputs": [],
   "source": [
    "def Pandas_soma(pser):\n",
    "    return pser + 1 \n",
    "\n",
    "#Uso do apply\n",
    "\n",
    "df.apply(Pandas_soma)"
   ]
  },
  {
   "cell_type": "code",
   "execution_count": null,
   "id": "fefd0efa",
   "metadata": {},
   "outputs": [],
   "source": [
    "# df_descricao_bolsa.style.format('{:,.2f}').background_gradient(axis=1)\n",
    "# try to use the command above"
   ]
  }
 ],
 "metadata": {
  "kernelspec": {
   "display_name": "Python 3 (ipykernel)",
   "language": "python",
   "name": "python3"
  },
  "language_info": {
   "codemirror_mode": {
    "name": "ipython",
    "version": 3
   },
   "file_extension": ".py",
   "mimetype": "text/x-python",
   "name": "python",
   "nbconvert_exporter": "python",
   "pygments_lexer": "ipython3",
   "version": "3.10.1"
  }
 },
 "nbformat": 4,
 "nbformat_minor": 5
}
