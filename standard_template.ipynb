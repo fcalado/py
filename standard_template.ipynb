{
 "cells": [
  {
   "cell_type": "code",
   "execution_count": 4,
   "id": "f05ebe2b",
   "metadata": {},
   "outputs": [
    {
     "name": "stdout",
     "output_type": "stream",
     "text": [
      "Requirement already satisfied: pyspark in c:\\users\\facl\\python310\\lib\\site-packages (3.5.1)\n",
      "Requirement already satisfied: py4j==0.10.9.7 in c:\\users\\facl\\python310\\lib\\site-packages (from pyspark) (0.10.9.7)\n",
      "Requirement already satisfied: pandas in c:\\users\\facl\\python310\\lib\\site-packages (1.5.2)\n",
      "Requirement already satisfied: python-dateutil>=2.8.1 in c:\\users\\facl\\appdata\\roaming\\python\\python310\\site-packages (from pandas) (2.8.2)\n",
      "Requirement already satisfied: pytz>=2020.1 in c:\\users\\facl\\python310\\lib\\site-packages (from pandas) (2022.6)\n",
      "Requirement already satisfied: numpy>=1.21.0 in c:\\users\\facl\\python310\\lib\\site-packages (from pandas) (1.23.5)\n",
      "Requirement already satisfied: six>=1.5 in c:\\users\\facl\\appdata\\roaming\\python\\python310\\site-packages (from python-dateutil>=2.8.1->pandas) (1.16.0)\n",
      "Requirement already satisfied: numpy in c:\\users\\facl\\python310\\lib\\site-packages (1.23.5)\n",
      "Requirement already satisfied: scipy in c:\\users\\facl\\python310\\lib\\site-packages (1.13.1)\n",
      "Requirement already satisfied: numpy<2.3,>=1.22.4 in c:\\users\\facl\\python310\\lib\\site-packages (from scipy) (1.23.5)\n",
      "Collecting chardet\n",
      "  Downloading chardet-5.2.0-py3-none-any.whl.metadata (3.4 kB)\n",
      "Downloading chardet-5.2.0-py3-none-any.whl (199 kB)\n",
      "   ---------------------------------------- 0.0/199.4 kB ? eta -:--:--\n",
      "   ---------------------------------------  194.6/199.4 kB 5.9 MB/s eta 0:00:01\n",
      "   ---------------------------------------- 199.4/199.4 kB 4.0 MB/s eta 0:00:00\n",
      "Installing collected packages: chardet\n",
      "Successfully installed chardet-5.2.0\n",
      "Collecting pysmb\n",
      "  Downloading pysmb-1.2.9.1.zip (1.4 MB)\n",
      "     ---------------------------------------- 0.0/1.4 MB ? eta -:--:--\n",
      "     ---- ----------------------------------- 0.2/1.4 MB 4.6 MB/s eta 0:00:01\n",
      "     -------- ------------------------------- 0.3/1.4 MB 2.9 MB/s eta 0:00:01\n",
      "     --------------- ------------------------ 0.5/1.4 MB 3.7 MB/s eta 0:00:01\n",
      "     ----------------------- ---------------- 0.8/1.4 MB 4.2 MB/s eta 0:00:01\n",
      "     -------------------------------- ------- 1.1/1.4 MB 4.6 MB/s eta 0:00:01\n",
      "     ---------------------------------------  1.3/1.4 MB 4.7 MB/s eta 0:00:01\n",
      "     ---------------------------------------  1.3/1.4 MB 4.7 MB/s eta 0:00:01\n",
      "     ---------------------------------------- 1.4/1.4 MB 3.9 MB/s eta 0:00:00\n",
      "  Installing build dependencies: started\n",
      "  Installing build dependencies: finished with status 'done'\n",
      "  Getting requirements to build wheel: started\n",
      "  Getting requirements to build wheel: finished with status 'done'\n",
      "  Installing backend dependencies: started\n",
      "  Installing backend dependencies: finished with status 'done'\n",
      "  Preparing metadata (pyproject.toml): started\n",
      "  Preparing metadata (pyproject.toml): finished with status 'done'\n",
      "Collecting pyasn1 (from pysmb)\n",
      "  Downloading pyasn1-0.6.0-py2.py3-none-any.whl.metadata (8.3 kB)\n",
      "Collecting tqdm (from pysmb)\n",
      "  Downloading tqdm-4.66.4-py3-none-any.whl.metadata (57 kB)\n",
      "     ---------------------------------------- 0.0/57.6 kB ? eta -:--:--\n",
      "     ---------------------------------------- 57.6/57.6 kB ? eta 0:00:00\n",
      "Requirement already satisfied: colorama in c:\\users\\facl\\python310\\lib\\site-packages (from tqdm->pysmb) (0.4.5)\n",
      "Downloading pyasn1-0.6.0-py2.py3-none-any.whl (85 kB)\n",
      "   ---------------------------------------- 0.0/85.3 kB ? eta -:--:--\n",
      "   ---------------------------------------- 85.3/85.3 kB 5.0 MB/s eta 0:00:00\n",
      "Downloading tqdm-4.66.4-py3-none-any.whl (78 kB)\n",
      "   ---------------------------------------- 0.0/78.3 kB ? eta -:--:--\n",
      "   ---------------------------------------- 78.3/78.3 kB 2.2 MB/s eta 0:00:00\n",
      "Building wheels for collected packages: pysmb\n",
      "  Building wheel for pysmb (pyproject.toml): started\n",
      "  Building wheel for pysmb (pyproject.toml): finished with status 'done'\n",
      "  Created wheel for pysmb: filename=pysmb-1.2.9.1-py3-none-any.whl size=84815 sha256=0c09958e4dde513c4df63a636218a5bf1d16704bd2d3bffef5ef94e339843a65\n",
      "  Stored in directory: c:\\users\\facl\\appdata\\local\\pip\\cache\\wheels\\b6\\13\\a6\\22f752798d4429d1f973f90e1fdaf8eb782a899fc691b57f48\n",
      "Successfully built pysmb\n",
      "Installing collected packages: tqdm, pyasn1, pysmb\n",
      "Successfully installed pyasn1-0.6.0 pysmb-1.2.9.1 tqdm-4.66.4\n",
      "Collecting pysftp\n",
      "  Downloading pysftp-0.2.9.tar.gz (25 kB)\n",
      "  Installing build dependencies: started\n",
      "  Installing build dependencies: finished with status 'done'\n",
      "  Getting requirements to build wheel: started\n",
      "  Getting requirements to build wheel: finished with status 'done'\n",
      "  Installing backend dependencies: started\n",
      "  Installing backend dependencies: finished with status 'done'\n",
      "  Preparing metadata (pyproject.toml): started\n",
      "  Preparing metadata (pyproject.toml): finished with status 'done'\n",
      "Collecting paramiko>=1.17 (from pysftp)\n",
      "  Downloading paramiko-3.4.0-py3-none-any.whl.metadata (4.4 kB)\n",
      "Collecting bcrypt>=3.2 (from paramiko>=1.17->pysftp)\n",
      "  Downloading bcrypt-4.1.3-cp39-abi3-win_amd64.whl.metadata (9.8 kB)\n",
      "Collecting cryptography>=3.3 (from paramiko>=1.17->pysftp)\n",
      "  Downloading cryptography-42.0.7-cp39-abi3-win_amd64.whl.metadata (5.4 kB)\n",
      "Collecting pynacl>=1.5 (from paramiko>=1.17->pysftp)\n",
      "  Downloading PyNaCl-1.5.0-cp36-abi3-win_amd64.whl.metadata (8.7 kB)\n",
      "Collecting cffi>=1.12 (from cryptography>=3.3->paramiko>=1.17->pysftp)\n",
      "  Downloading cffi-1.16.0-cp310-cp310-win_amd64.whl.metadata (1.5 kB)\n",
      "Collecting pycparser (from cffi>=1.12->cryptography>=3.3->paramiko>=1.17->pysftp)\n",
      "  Downloading pycparser-2.22-py3-none-any.whl.metadata (943 bytes)\n",
      "Downloading paramiko-3.4.0-py3-none-any.whl (225 kB)\n",
      "   ---------------------------------------- 0.0/225.9 kB ? eta -:--:--\n",
      "   ------------------- -------------------- 112.6/225.9 kB 3.3 MB/s eta 0:00:01\n",
      "   ---------------------------------------- 225.9/225.9 kB 3.4 MB/s eta 0:00:00\n",
      "Downloading bcrypt-4.1.3-cp39-abi3-win_amd64.whl (158 kB)\n",
      "   ---------------------------------------- 0.0/158.1 kB ? eta -:--:--\n",
      "   ---------------------------------------- 158.1/158.1 kB 4.8 MB/s eta 0:00:00\n",
      "Downloading cryptography-42.0.7-cp39-abi3-win_amd64.whl (2.9 MB)\n",
      "   ---------------------------------------- 0.0/2.9 MB ? eta -:--:--\n",
      "   --- ------------------------------------ 0.3/2.9 MB 5.9 MB/s eta 0:00:01\n",
      "   ------ --------------------------------- 0.4/2.9 MB 4.6 MB/s eta 0:00:01\n",
      "   --------- ------------------------------ 0.7/2.9 MB 4.8 MB/s eta 0:00:01\n",
      "   --------------- ------------------------ 1.1/2.9 MB 6.0 MB/s eta 0:00:01\n",
      "   --------------------- ------------------ 1.5/2.9 MB 6.6 MB/s eta 0:00:01\n",
      "   --------------------------- ------------ 2.0/2.9 MB 7.1 MB/s eta 0:00:01\n",
      "   -------------------------------- ------- 2.4/2.9 MB 7.2 MB/s eta 0:00:01\n",
      "   -------------------------------------- - 2.8/2.9 MB 7.4 MB/s eta 0:00:01\n",
      "   ---------------------------------------  2.9/2.9 MB 7.4 MB/s eta 0:00:01\n",
      "   ---------------------------------------  2.9/2.9 MB 7.4 MB/s eta 0:00:01\n",
      "   ---------------------------------------- 2.9/2.9 MB 5.9 MB/s eta 0:00:00\n",
      "Downloading PyNaCl-1.5.0-cp36-abi3-win_amd64.whl (212 kB)\n",
      "   ---------------------------------------- 0.0/212.1 kB ? eta -:--:--\n",
      "   ---------------------------------------- 212.1/212.1 kB 6.5 MB/s eta 0:00:00\n",
      "Downloading cffi-1.16.0-cp310-cp310-win_amd64.whl (181 kB)\n",
      "   ---------------------------------------- 0.0/181.6 kB ? eta -:--:--\n",
      "   ---------------------------------------- 181.6/181.6 kB 5.5 MB/s eta 0:00:00\n",
      "Downloading pycparser-2.22-py3-none-any.whl (117 kB)\n",
      "   ---------------------------------------- 0.0/117.6 kB ? eta -:--:--\n",
      "   ---------------------------------------- 117.6/117.6 kB ? eta 0:00:00\n",
      "Building wheels for collected packages: pysftp\n",
      "  Building wheel for pysftp (pyproject.toml): started\n",
      "  Building wheel for pysftp (pyproject.toml): finished with status 'done'\n",
      "  Created wheel for pysftp: filename=pysftp-0.2.9-py3-none-any.whl size=15523 sha256=5b75008357031ba1f7229c10762ceda7dd0f3da9560439a012cb2cb5941ee278\n",
      "  Stored in directory: c:\\users\\facl\\appdata\\local\\pip\\cache\\wheels\\64\\52\\87\\2683826a06d053045a9bd11f05850e26bbdbfbf821ee6735f0\n",
      "Successfully built pysftp\n",
      "Installing collected packages: pycparser, bcrypt, cffi, pynacl, cryptography, paramiko, pysftp\n",
      "Successfully installed bcrypt-4.1.3 cffi-1.16.0 cryptography-42.0.7 paramiko-3.4.0 pycparser-2.22 pynacl-1.5.0 pysftp-0.2.9\n"
     ]
    }
   ],
   "source": [
    "!pip3 install pyspark\n",
    "!pip3 install pandas\n",
    "!pip3 install numpy\n",
    "!pip3 install scipy\n",
    "!pip3 install chardet\n",
    "import pandas as pd, numpy as np, scipy as sp\n",
    "import datetime, csv, os, random, re, pyspark, gc, sys\n",
    "from zipfile import ZipFile\n",
    "from subprocess import Popen, PIPE, STDOUT, check_call\n",
    "from pyspark.sql import *\n",
    "from pyspark import *\n",
    "from pyspark.sql.functions import *\n",
    "from pyspark.sql.types import *\n",
    "from datetime import *\n",
    "from math import *\n",
    "from IPython import display\n",
    "from IPython.display import display, HTML, Image\n",
    "import pyspark.sql.functions as F\n",
    "from pprint import pprint\n",
    "import chardet\n",
    "import socket\n",
    "import getpass\n",
    "import sys\n",
    "!pip3 install pysmb\n",
    "!pip3 install pysftp\n",
    "import pysftp"
   ]
  },
  {
   "cell_type": "code",
   "execution_count": 5,
   "id": "d4bb80da",
   "metadata": {},
   "outputs": [],
   "source": [
    "class_path = 'class/'"
   ]
  },
  {
   "cell_type": "code",
   "execution_count": 6,
   "id": "bf42e91d",
   "metadata": {},
   "outputs": [],
   "source": [
    "credentials = class_path + 'credentials.py'\n",
    "email = class_path + 'email.py'\n",
    "pysftp = class_path + 'pysftp.py'\n",
    "return_date = class_path + 'return_date.py'\n",
    "samba = class_path + 'samba.py'"
   ]
  },
  {
   "cell_type": "code",
   "execution_count": 8,
   "id": "f08fb4dc",
   "metadata": {},
   "outputs": [
    {
     "name": "stderr",
     "output_type": "stream",
     "text": [
      "c:\\Users\\FACL\\Python310\\lib\\site-packages\\pysftp\\__init__.py:61: UserWarning: Failed to load HostKeys from C:\\Users\\FACL\\.ssh\\known_hosts.  You will need to explicitly load HostKeys (cnopts.hostkeys.load(filename)) or disableHostKey checking (cnopts.hostkeys = None).\n",
      "  warnings.warn(wmsg, UserWarning)\n"
     ]
    }
   ],
   "source": [
    "%run -i $credentials\n",
    "%run -i $email\n",
    "%run -i $pysftp\n",
    "%run -i $return_date\n",
    "%run -i $samba"
   ]
  },
  {
   "cell_type": "code",
   "execution_count": 9,
   "id": "2c052d61",
   "metadata": {},
   "outputs": [
    {
     "name": "stdout",
     "output_type": "stream",
     "text": [
      "2024-06-01 202406 2024-06-01 2024-06-30\n"
     ]
    }
   ],
   "source": [
    "today = (date.today() + timedelta(days=-0)).strftime('%Y-%m-%d')\n",
    "quote = \"'\"\n",
    "\n",
    "fn_data_referencia(today)\n",
    "print(today,AAAAMM, I_AAAA_MM_DD, U_AAAA_MM_DD)"
   ]
  },
  {
   "cell_type": "code",
   "execution_count": null,
   "id": "d6e1f186",
   "metadata": {},
   "outputs": [],
   "source": []
  }
 ],
 "metadata": {
  "kernelspec": {
   "display_name": "Python 3 (ipykernel)",
   "language": "python",
   "name": "python3"
  },
  "language_info": {
   "codemirror_mode": {
    "name": "ipython",
    "version": 3
   },
   "file_extension": ".py",
   "mimetype": "text/x-python",
   "name": "python",
   "nbconvert_exporter": "python",
   "pygments_lexer": "ipython3",
   "version": "3.10.1"
  }
 },
 "nbformat": 4,
 "nbformat_minor": 5
}
