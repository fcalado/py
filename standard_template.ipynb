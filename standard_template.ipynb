{
 "cells": [
  {
   "cell_type": "code",
   "execution_count": 2,
   "id": "f05ebe2b",
   "metadata": {},
   "outputs": [
    {
     "name": "stdout",
     "output_type": "stream",
     "text": [
      "Requirement already satisfied: pyspark in c:\\users\\facl\\anaconda3\\lib\\site-packages (3.5.1)\n",
      "Requirement already satisfied: py4j==0.10.9.7 in c:\\users\\facl\\anaconda3\\lib\\site-packages (from pyspark) (0.10.9.7)\n",
      "Collecting pysmb\n",
      "  Downloading pysmb-1.2.9.1.zip (1.4 MB)\n",
      "Collecting pyasn1\n",
      "  Downloading pyasn1-0.6.0-py2.py3-none-any.whl (85 kB)\n",
      "Requirement already satisfied: tqdm in c:\\users\\facl\\anaconda3\\lib\\site-packages (from pysmb) (4.62.3)\n",
      "Requirement already satisfied: colorama in c:\\users\\facl\\anaconda3\\lib\\site-packages (from tqdm->pysmb) (0.4.4)\n",
      "Building wheels for collected packages: pysmb\n",
      "  Building wheel for pysmb (setup.py): started\n",
      "  Building wheel for pysmb (setup.py): finished with status 'done'\n",
      "  Created wheel for pysmb: filename=pysmb-1.2.9.1-py3-none-any.whl size=84822 sha256=4ae06167eacb2eb21af8ffe0af695ec4d0020e9a9459728279e5f97a9d67d7e3\n",
      "  Stored in directory: c:\\users\\facl\\appdata\\local\\pip\\cache\\wheels\\79\\fb\\86\\032760e32fad1d9277f6ace4664fd1e946cb763711948ec2bb\n",
      "Successfully built pysmb\n",
      "Installing collected packages: pyasn1, pysmb\n",
      "Successfully installed pyasn1-0.6.0 pysmb-1.2.9.1\n",
      "Collecting pysftp\n",
      "  Downloading pysftp-0.2.9.tar.gz (25 kB)\n",
      "Requirement already satisfied: paramiko>=1.17 in c:\\users\\facl\\anaconda3\\lib\\site-packages (from pysftp) (2.7.2)\n",
      "Requirement already satisfied: bcrypt>=3.1.3 in c:\\users\\facl\\anaconda3\\lib\\site-packages (from paramiko>=1.17->pysftp) (3.2.0)\n",
      "Requirement already satisfied: cryptography>=2.5 in c:\\users\\facl\\anaconda3\\lib\\site-packages (from paramiko>=1.17->pysftp) (3.4.8)\n",
      "Requirement already satisfied: pynacl>=1.0.1 in c:\\users\\facl\\anaconda3\\lib\\site-packages (from paramiko>=1.17->pysftp) (1.4.0)\n",
      "Requirement already satisfied: cffi>=1.1 in c:\\users\\facl\\anaconda3\\lib\\site-packages (from bcrypt>=3.1.3->paramiko>=1.17->pysftp) (1.14.6)\n",
      "Requirement already satisfied: six>=1.4.1 in c:\\users\\facl\\anaconda3\\lib\\site-packages (from bcrypt>=3.1.3->paramiko>=1.17->pysftp) (1.16.0)\n",
      "Requirement already satisfied: pycparser in c:\\users\\facl\\anaconda3\\lib\\site-packages (from cffi>=1.1->bcrypt>=3.1.3->paramiko>=1.17->pysftp) (2.20)\n",
      "Building wheels for collected packages: pysftp\n",
      "  Building wheel for pysftp (setup.py): started\n",
      "  Building wheel for pysftp (setup.py): finished with status 'done'\n",
      "  Created wheel for pysftp: filename=pysftp-0.2.9-py3-none-any.whl size=15497 sha256=5c0f7af6e2b6804ab9d5dc50a5e5664a56ca5b8e7772c7039fd51e1f4ad56c80\n",
      "  Stored in directory: c:\\users\\facl\\appdata\\local\\pip\\cache\\wheels\\0c\\0e\\4e\\b8c1140f0fdcfb73bafe525942bff85043231e6787b7eab72c\n",
      "Successfully built pysftp\n",
      "Installing collected packages: pysftp\n",
      "Successfully installed pysftp-0.2.9\n"
     ]
    }
   ],
   "source": [
    "!pip3 install pyspark\n",
    "import pandas as pd, numpy as np, scipy as sp\n",
    "import datetime, csv, os, random, re, pyspark, gc, sys\n",
    "from zipfile import ZipFile\n",
    "from subprocess import Popen, PIPE, STDOUT, check_call\n",
    "from pyspark.sql import *\n",
    "from pyspark import *\n",
    "from pyspark.sql.functions import *\n",
    "from pyspark.sql.types import *\n",
    "from datetime import *\n",
    "from math import *\n",
    "from IPython import display\n",
    "from IPython.display import display, HTML, Image\n",
    "import pyspark.sql.functions as F\n",
    "from pprint import pprint\n",
    "import chardet\n",
    "import socket\n",
    "import getpass\n",
    "import sys\n",
    "!pip3 install pysmb\n",
    "!pip3 install pysftp\n",
    "import pysftp"
   ]
  },
  {
   "cell_type": "code",
   "execution_count": 3,
   "id": "d4bb80da",
   "metadata": {},
   "outputs": [],
   "source": [
    "class_path = 'class/'"
   ]
  },
  {
   "cell_type": "code",
   "execution_count": 6,
   "id": "bf42e91d",
   "metadata": {},
   "outputs": [],
   "source": [
    "credentials = class_path + 'credentials.py'\n",
    "email = class_path + 'email.py'\n",
    "pysftp = class_path + 'pysftp.py'\n",
    "return_date = class_path + 'return_date.py'\n",
    "samba = class_path + 'samba.py'"
   ]
  },
  {
   "cell_type": "code",
   "execution_count": 7,
   "id": "f08fb4dc",
   "metadata": {},
   "outputs": [
    {
     "name": "stderr",
     "output_type": "stream",
     "text": [
      "C:\\Users\\FACL\\anaconda3\\lib\\site-packages\\pysftp\\__init__.py:61: UserWarning: Failed to load HostKeys from C:\\Users\\FACL\\.ssh\\known_hosts.  You will need to explicitly load HostKeys (cnopts.hostkeys.load(filename)) or disableHostKey checking (cnopts.hostkeys = None).\n",
      "  warnings.warn(wmsg, UserWarning)\n"
     ]
    }
   ],
   "source": [
    "%run -i $credentials\n",
    "%run -i $email\n",
    "%run -i $pysftp\n",
    "%run -i $return_date\n",
    "%run -i $samba"
   ]
  },
  {
   "cell_type": "code",
   "execution_count": 12,
   "id": "2c052d61",
   "metadata": {},
   "outputs": [
    {
     "name": "stdout",
     "output_type": "stream",
     "text": [
      "2024-05-30 202405 2024-05-01 2024-05-31\n"
     ]
    }
   ],
   "source": [
    "today = (date.today() + timedelta(days=-0)).strftime('%Y-%m-%d')\n",
    "quote = \"'\"\n",
    "\n",
    "fn_data_referencia(today)\n",
    "print(today,AAAAMM, I_AAAA_MM_DD, U_AAAA_MM_DD)"
   ]
  },
  {
   "cell_type": "code",
   "execution_count": null,
   "id": "d6e1f186",
   "metadata": {},
   "outputs": [],
   "source": []
  }
 ],
 "metadata": {
  "kernelspec": {
   "display_name": "Python 3 (ipykernel)",
   "language": "python",
   "name": "python3"
  },
  "language_info": {
   "codemirror_mode": {
    "name": "ipython",
    "version": 3
   },
   "file_extension": ".py",
   "mimetype": "text/x-python",
   "name": "python",
   "nbconvert_exporter": "python",
   "pygments_lexer": "ipython3",
   "version": "3.9.7"
  }
 },
 "nbformat": 4,
 "nbformat_minor": 5
}
